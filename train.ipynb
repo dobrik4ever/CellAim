{
 "cells": [
  {
   "cell_type": "code",
   "execution_count": 1,
   "metadata": {},
   "outputs": [
    {
     "name": "stderr",
     "output_type": "stream",
     "text": [
      "c:\\ProgramData\\Anaconda3\\envs\\dl\\lib\\site-packages\\tqdm\\auto.py:22: TqdmWarning: IProgress not found. Please update jupyter and ipywidgets. See https://ipywidgets.readthedocs.io/en/stable/user_install.html\n",
      "  from .autonotebook import tqdm as notebook_tqdm\n"
     ]
    }
   ],
   "source": [
    "import torch\n",
    "import torchvision\n",
    "import pytorch_lightning as pl\n",
    "from matplotlib import pyplot as plt\n",
    "\n",
    "from Models import U_net, PlottingCallback\n",
    "from Simulation import DataGenerator\n",
    "import warnings\n",
    "warnings.filterwarnings(\"ignore\") "
   ]
  },
  {
   "cell_type": "code",
   "execution_count": 2,
   "metadata": {},
   "outputs": [
    {
     "name": "stderr",
     "output_type": "stream",
     "text": [
      "100%|██████████| 100/100 [00:00<00:00, 264.56it/s]\n",
      "100%|██████████| 10/10 [00:00<00:00, 257.09it/s]\n",
      "GPU available: True, used: True\n",
      "TPU available: False, using: 0 TPU cores\n",
      "IPU available: False, using: 0 IPUs\n",
      "HPU available: False, using: 0 HPUs\n",
      "LOCAL_RANK: 0 - CUDA_VISIBLE_DEVICES: [0]\n",
      "\n",
      "  | Name            | Type       | Params | In sizes                             | Out sizes                           \n",
      "-----------------------------------------------------------------------------------------------------------------------------\n",
      "0 | enc_1           | Encoder    | 828    | [1, 1, 200, 200]                     | [[1, 9, 100, 100], [1, 9, 100, 100]]\n",
      "1 | enc_2           | Encoder    | 4.4 K  | [1, 9, 100, 100]                     | [[1, 18, 50, 50], [1, 18, 50, 50]]  \n",
      "2 | enc_3           | Encoder    | 17.6 K | [1, 18, 50, 50]                      | [[1, 36, 25, 25], [1, 36, 25, 25]]  \n",
      "3 | dec_3           | Decoder    | 8.8 K  | [[1, 36, 25, 25], [1, 36, 25, 25]]   | [1, 18, 50, 50]                     \n",
      "4 | dec_2           | Decoder    | 2.2 K  | [[1, 18, 50, 50], [1, 18, 50, 50]]   | [1, 9, 100, 100]                    \n",
      "5 | dec_1           | Decoder    | 92     | [[1, 9, 100, 100], [1, 9, 100, 100]] | [1, 1, 200, 200]                    \n",
      "6 | smoother        | Sequential | 58     | ?                                    | ?                                   \n",
      "7 | output_function | LeakyReLU  | 0      | [1, 1, 200, 200]                     | [1, 1, 200, 200]                    \n",
      "-----------------------------------------------------------------------------------------------------------------------------\n",
      "33.9 K    Trainable params\n",
      "0         Non-trainable params\n",
      "33.9 K    Total params\n",
      "0.136     Total estimated model params size (MB)\n"
     ]
    },
    {
     "name": "stdout",
     "output_type": "stream",
     "text": [
      "Epoch 186:   0%|          | 0/11 [00:00<?, ?it/s, loss=0.00483, v_num=15]         "
     ]
    }
   ],
   "source": [
    "# Dataset prep\n",
    "DataGenerator.img_size = 200\n",
    "dt = DataGenerator('train', size=100)\n",
    "dv = DataGenerator('valid', size=10)\n",
    "dt.generate()\n",
    "dv.generate()\n",
    "\n",
    "train_loader = torch.utils.data.DataLoader(dt, batch_size = 10, shuffle = True)\n",
    "valid_loader = torch.utils.data.DataLoader(dv, batch_size = 10, shuffle = False)\n",
    "\n",
    "# Model and Train\n",
    "model = U_net(img_size=[dt.img_size, dt.img_size], learning_rate=1e-3)\n",
    "trainer = pl.Trainer(gpus=-1, fast_dev_run = False, progress_bar_refresh_rate=20, callbacks=[PlottingCallback(train_loader, valid_loader)])\n",
    "trainer.fit(model, train_loader, valid_loader)"
   ]
  }
 ],
 "metadata": {
  "kernelspec": {
   "display_name": "Python 3.10.4 ('dl')",
   "language": "python",
   "name": "python3"
  },
  "language_info": {
   "codemirror_mode": {
    "name": "ipython",
    "version": 3
   },
   "file_extension": ".py",
   "mimetype": "text/x-python",
   "name": "python",
   "nbconvert_exporter": "python",
   "pygments_lexer": "ipython3",
   "version": "3.9.12"
  },
  "orig_nbformat": 4,
  "vscode": {
   "interpreter": {
    "hash": "c9ccd8639d7ac6d8ae46f08631d02de0d1c9f4a08850208985333be71082afd9"
   }
  }
 },
 "nbformat": 4,
 "nbformat_minor": 2
}
